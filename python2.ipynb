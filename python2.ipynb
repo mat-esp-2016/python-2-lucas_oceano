{
 "cells": [
  {
   "cell_type": "code",
   "execution_count": 2,
   "metadata": {
    "collapsed": true
   },
   "outputs": [],
   "source": [
    "%matplotlib inline\n",
    "import matplotlib.pyplot as plt\n",
    "import numpy as np\n",
    "import glob\n",
    "import math\n",
    "# Importando as bibliotecas necessárias, para confecção do codigo."
   ]
  },
  {
   "cell_type": "code",
   "execution_count": 4,
   "metadata": {
    "collapsed": false
   },
   "outputs": [
    {
     "name": "stdout",
     "output_type": "stream",
     "text": [
      "['dados\\\\0.80S-49.02W-TAVG-Trend.txt', 'dados\\\\10.45S-48.27W-TAVG-Trend.txt', 'dados\\\\13.66S-38.81W-TAVG-Trend.txt', 'dados\\\\15.27S-47.50W-TAVG-Trend.txt', 'dados\\\\2.41S-60.27W-TAVG-Trend.txt', 'dados\\\\20.09S-44.36W-TAVG-Trend.txt', 'dados\\\\20.09S-54.60W-TAVG-Trend.txt', 'dados\\\\23.31S-42.82W-TAVG-Trend.txt', 'dados\\\\23.31S-46.31W-TAVG-Trend.txt', 'dados\\\\24.92S-49.66W-TAVG-Trend.txt', 'dados\\\\29.74S-51.69W-TAVG-Trend.txt', 'dados\\\\4.02S-40.98W-TAVG-Trend.txt', 'dados\\\\brazil-TAVG-Trend.txt']\n"
     ]
    }
   ],
   "source": [
    "arquivos = glob.glob('dados/*.txt')\n",
    "print(arquivos)\n",
    "#Nomeando os arquivos da pasta \"dados\"."
   ]
  },
  {
   "cell_type": "code",
   "execution_count": 38,
   "metadata": {
    "collapsed": false
   },
   "outputs": [
    {
     "name": "stdout",
     "output_type": "stream",
     "text": [
      "dados\\0.80S-49.02W-TAVG-Trend.txt\n",
      "dados\\10.45S-48.27W-TAVG-Trend.txt\n",
      "dados\\13.66S-38.81W-TAVG-Trend.txt\n",
      "dados\\15.27S-47.50W-TAVG-Trend.txt\n",
      "dados\\2.41S-60.27W-TAVG-Trend.txt\n",
      "dados\\20.09S-44.36W-TAVG-Trend.txt\n",
      "dados\\20.09S-54.60W-TAVG-Trend.txt\n",
      "dados\\23.31S-42.82W-TAVG-Trend.txt\n",
      "dados\\23.31S-46.31W-TAVG-Trend.txt\n",
      "dados\\24.92S-49.66W-TAVG-Trend.txt\n",
      "dados\\29.74S-51.69W-TAVG-Trend.txt\n",
      "dados\\4.02S-40.98W-TAVG-Trend.txt\n",
      "dados\\brazil-TAVG-Trend.txt\n"
     ]
    }
   ],
   "source": [
    "for arquivo in arquivos:\n",
    "    print(arquivo)\n",
    "#Organizando \"arquivo\"."
   ]
  }
 ],
 "metadata": {
  "kernelspec": {
   "display_name": "Python [Root]",
   "language": "python",
   "name": "Python [Root]"
  },
  "language_info": {
   "codemirror_mode": {
    "name": "ipython",
    "version": 3
   },
   "file_extension": ".py",
   "mimetype": "text/x-python",
   "name": "python",
   "nbconvert_exporter": "python",
   "pygments_lexer": "ipython3",
   "version": "3.5.2"
  }
 },
 "nbformat": 4,
 "nbformat_minor": 0
}
